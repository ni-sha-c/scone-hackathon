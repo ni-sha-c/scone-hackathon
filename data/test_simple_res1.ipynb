{
  "nbformat": 4,
  "nbformat_minor": 0,
  "metadata": {
    "colab": {
      "provenance": [],
      "gpuType": "L4"
    },
    "kernelspec": {
      "name": "python3",
      "display_name": "Python 3"
    },
    "language_info": {
      "name": "python"
    },
    "accelerator": "GPU"
  },
  "cells": [
    {
      "cell_type": "code",
      "execution_count": 1,
      "metadata": {
        "id": "JxYNCQSOwv0H"
      },
      "outputs": [],
      "source": [
        "import torch\n",
        "import torch.nn as nn\n",
        "from torch.utils.data import Dataset, DataLoader\n",
        "import tqdm as progressbar\n",
        "import matplotlib.pyplot as plt\n",
        "import torch.nn.functional as F\n",
        "import numpy as np"
      ]
    },
    {
      "cell_type": "markdown",
      "source": [
        "## Models"
      ],
      "metadata": {
        "id": "_ifagACBw70l"
      }
    },
    {
      "cell_type": "code",
      "source": [
        "## phi = sin(x)sin(y)\n",
        "## 5 or more with relu\n",
        "## More layers for resnet\n",
        "## make sure to introduce dropout lyers fro generalization and make sure to initialize the weights correctly\n",
        "## xaviar distribution for initialization or gaussian.\n",
        "def init_weights(m):\n",
        "    if isinstance(m, nn.Linear):\n",
        "        torch.nn.init.xavier_uniform(m.weight)\n",
        "        # m.bias.data.fill_(0.01)\n",
        "\n",
        "class Res(nn.Module):\n",
        "    def __init__(self, input_dim, hidden_dim, output_dim):\n",
        "        super(Res, self).__init__()\n",
        "        ## Layer initialization\n",
        "        self.fc1 = nn.Linear(input_dim, hidden_dim)\n",
        "        self.fc2 = nn.Linear(hidden_dim, hidden_dim)\n",
        "        self.fc3 = nn.Linear(hidden_dim, output_dim)\n",
        "        self.dropout1 = nn.Dropout(0.5)\n",
        "\n",
        "        ## weight initialization\n",
        "        torch.nn.init.xavier_uniform_(self.fc1.weight)\n",
        "        torch.nn.init.xavier_uniform_(self.fc2.weight)\n",
        "        torch.nn.init.xavier_uniform_(self.fc3.weight)\n",
        "\n",
        "\n",
        "    def forward(self, x):\n",
        "        x1 = torch.tanh(self.fc1(x))\n",
        "        x2 = torch.tanh(self.dropout1(self.fc2(x1)))\n",
        "        x3 = self.fc3(x2 + x1)\n",
        "        return x3\n",
        "\n",
        "class SimplestNeuralNetwork(nn.Module):\n",
        "    def __init__(self, input_dim, hidden_dim, output_dim):\n",
        "        super(SimplestNeuralNetwork, self).__init__()\n",
        "        ## Layer initialization\n",
        "        self.fc1 = nn.Linear(input_dim, hidden_dim)\n",
        "        self.fc5 = nn.Linear(hidden_dim, output_dim)\n",
        "\n",
        "        ## weight initialization\n",
        "        nn.init.xavier_uniform_(self.fc1.weight)\n",
        "        nn.init.xavier_uniform_(self.fc5.weight)\n",
        "\n",
        "    def forward(self, x):\n",
        "        x1 = nn.functional.relu(self.fc1(x))\n",
        "        x5 = self.fc5(x1)\n",
        "        return x5\n",
        "\n",
        "class SimpleReluNet(nn.Module):\n",
        "    def __init__(self, input_dim, hidden_dim, output_dim):\n",
        "        super(SimpleReluNet, self).__init__()\n",
        "        ## Layer initialization\n",
        "        self.fc1 = nn.Linear(input_dim, hidden_dim)\n",
        "        self.fc2 = nn.Linear(hidden_dim, hidden_dim)\n",
        "        self.fc3 = nn.Linear(hidden_dim, hidden_dim)\n",
        "        self.fc4 = nn.Linear(hidden_dim, hidden_dim)\n",
        "        self.fc5 = nn.Linear(hidden_dim, output_dim)\n",
        "        self.dropout1 = nn.Dropout(0.5)\n",
        "        self.dropout2 = nn.Dropout(0.25)\n",
        "\n",
        "        ## weight initialization\n",
        "        nn.init.xavier_uniform_(self.fc1.weight)\n",
        "        nn.init.xavier_uniform_(self.fc2.weight)\n",
        "        nn.init.xavier_uniform_(self.fc3.weight)\n",
        "        nn.init.xavier_uniform_(self.fc4.weight)\n",
        "        nn.init.xavier_uniform_(self.fc5.weight)\n",
        "\n",
        "    def forward(self, x):\n",
        "        x1 = nn.functional.relu(self.fc1(x))\n",
        "        x2 = nn.functional.relu(self.dropout1(self.fc2(x1)))\n",
        "        x3 = nn.functional.relu(self.fc3(x2))\n",
        "        x4 = nn.functional.relu(self.dropout2(self.fc4(x3)))\n",
        "        x5 = self.fc5(x4)\n",
        "        return x5\n",
        "\n",
        "class GeneralReLuNet(nn.Module):\n",
        "    def __init__(self, input_size, hidden_sizes, output_size):\n",
        "        super(GeneralReLuNet, self).__init__()\n",
        "        layers = []\n",
        "        layer_sizes = [input_size] + hidden_sizes + [output_size]\n",
        "        for i in range(len(layer_sizes) - 1):\n",
        "            layers.append(nn.Linear(layer_sizes[i], layer_sizes[i+1]))\n",
        "            if i < len(layer_sizes) - 2:\n",
        "                if torch.rand() < 0.1:\n",
        "                    print(f\"Dropout at layer {i}\")\n",
        "                    layers.append(nn.Dropout(0.25 + torch.rand()/4))\n",
        "                layers.append(nn.ReLu())\n",
        "        self.network = nn.Sequential(*layers)\n",
        "        self.network.apply(init_weights)\n",
        "\n",
        "    def forward(self, x):\n",
        "        return self.network(x)"
      ],
      "metadata": {
        "id": "0PFFwLJ_w33u"
      },
      "execution_count": 2,
      "outputs": []
    },
    {
      "cell_type": "markdown",
      "source": [
        "## sin_prod"
      ],
      "metadata": {
        "id": "CWr5FB2bw99d"
      }
    },
    {
      "cell_type": "code",
      "source": [
        "device = \"cuda\" if torch.cuda.is_available() else \"cpu\"\n",
        "\n",
        "class PDEDataset(Dataset):\n",
        "    def __init__(self, x_gr):\n",
        "        self.x = x_gr\n",
        "        self.y = pde_rhs(self.x)  # Assign the entire tensor at once\n",
        "    def __len__(self):\n",
        "        return len(self.x)\n",
        "    def __getitem__(self, idx):\n",
        "        return self.x[idx], self.y[idx]\n",
        "\n",
        "def create_dataset(x_gr):\n",
        "    dataset = PDEDataset(x_gr)\n",
        "    return dataset\n",
        "\n",
        "def phi(x : torch.tensor) -> torch.tensor:\n",
        "    return torch.prod(torch.sin(x), dim = 0)\n",
        "\n",
        "def q(x : torch.tensor) -> torch.tensor:\n",
        "    return torch.ones(x.shape, device = device)\n",
        "\n",
        "def p(x : torch.tensor) -> torch.tensor:\n",
        "    sum_cos = torch.cos(torch.sum(x, dim = 1)).to(device)\n",
        "    sinx = torch.sin(x)\n",
        "    cosx = torch.cos(x)\n",
        "    t = torch.stack((cosx[:, 0]*sinx[:, 1], sinx[:, 0]*cosx[:, 1]), dim = 1).to(device)\n",
        "    return sum_cos.reshape(-1, 1) + 1 - 2*t\n",
        "\n",
        "def plot_contour(func, title = \"Contour plot for phi(x) = sin(x)sin(y)\"):\n",
        "    x = torch.linspace(0,2*torch.pi, 200)\n",
        "    X,Y = torch.meshgrid(x, x)\n",
        "    Z = torch.empty_like(X)\n",
        "    for i in range(X.shape[0]):\n",
        "        for j in range(X.shape[1]):\n",
        "            Z[i, j] = func(torch.tensor([X[i, j], Y[i, j]]))\n",
        "    plt.contourf(X, Y, Z)\n",
        "    plt.colorbar()\n",
        "    plt.title(title)\n",
        "    plt.show()\n",
        "\n",
        "\n",
        "def pde_rhs(x):\n",
        "    with torch.no_grad():\n",
        "        rhs = p(x) - q(x)\n",
        "    return rhs\n",
        "\n",
        "# plot_contour(phi)\n",
        "\n",
        "num_samples = 2500\n",
        "dim = 2\n",
        "x_max = 2*torch.pi\n",
        "x_min = 0\n",
        "x_gr = torch.rand(num_samples, 2) * (abs(x_max) + abs(x_min)) + x_min\n",
        "dataset = create_dataset(x_gr)\n",
        "# torch.save(dataset, f\"dataset_sin_{num_samples}.pth\")\n"
      ],
      "metadata": {
        "id": "A0T93kRUxGt5"
      },
      "execution_count": 18,
      "outputs": []
    },
    {
      "cell_type": "code",
      "source": [
        "dataset"
      ],
      "metadata": {
        "colab": {
          "base_uri": "https://localhost:8080/"
        },
        "id": "6mTb246ZxqAb",
        "outputId": "a60f5eb9-5618-4832-e2ef-c52b21b6a3d6"
      },
      "execution_count": 7,
      "outputs": [
        {
          "output_type": "execute_result",
          "data": {
            "text/plain": [
              "<__main__.PDEDataset at 0x7c52ccd18df0>"
            ]
          },
          "metadata": {},
          "execution_count": 7
        }
      ]
    },
    {
      "cell_type": "markdown",
      "source": [
        "## training loop"
      ],
      "metadata": {
        "id": "p9K0EdYAxEBI"
      }
    },
    {
      "cell_type": "code",
      "source": [
        "# fc + residual block\n",
        "def pde(tar_sc , model, x):\n",
        "    x= x.requires_grad_(True)  # Create a separate variable for use in this function\n",
        "    dy = lambda p : torch.func.jacrev(model)(p).squeeze()\n",
        "    return dy(x)\n",
        "    # dy_dotq = lambda x : torch.dot(dy(x), tar_sc(x)).to(device)\n",
        "    # d_dy_dotq = torch.func.jacrev(dy_dotq)\n",
        "    # divergence_dy = lambda x : torch.trace(torch.func.jacrev(dy)(x)).to(device)\n",
        "    # d_divergence_dy = torch.func.jacrev(divergence_dy)\n",
        "    # pde_lhs = d_divergence_dy(x) + d_dy_dotq(x)\n",
        "    # return pde_lhs\n",
        "\n",
        "## remains to fix\n",
        "def train_pde(model, tar_sc, dataloader, optimizer, batchsize, device, epochs=10):\n",
        "    loss_list = []\n",
        "    print(\"Training the model...\")\n",
        "    with progressbar.tqdm (range(epochs), unit=\"epoch\") as pbar:\n",
        "        output = torch.empty((batchsize, 2), device = device)\n",
        "        for epoch in range(epochs):\n",
        "            # optimizer.zero_grad()\n",
        "            for t, (x, y) in enumerate(dataloader):\n",
        "                optimizer.zero_grad()\n",
        "                x_g = x.to(device)\n",
        "                y_g = y.to(device)\n",
        "                new_output = torch.empty_like(output)\n",
        "                for i, x_i in enumerate(x_g):\n",
        "                    x_out = x_i.detach().clone()\n",
        "                    new_output[i] = pde(tar_sc, model, x_out)\n",
        "                output = new_output\n",
        "                pde_loss = torch.nn.functional.mse_loss(output, y_g.float())\n",
        "                # loss = pde_loss\n",
        "                print(\"loss:\", pde_loss.item())\n",
        "                pde_loss.backward()\n",
        "                optimizer.step()\n",
        "            pbar.update()\n",
        "            loss_list.append(pde_loss.item())\n",
        "    return loss_list\n",
        "\n",
        "def solve_newton_step_pinn(tar_sc, lr, batchsize, device, num_train, num_test, model_type, epochs=25):\n",
        "    if model_type == \"res\":\n",
        "        model = Res(input_dim=2, hidden_dim=50, output_dim=1)\n",
        "    elif model_type == \"general\":\n",
        "        model = GeneralReLuNet(input_size = 2, hidden_sizes = [50, 50, 64, 25], output_size = 1)\n",
        "    else:\n",
        "        model = SimpleReluNet(2, 50, 1)\n",
        "    model = model.to(device)\n",
        "    x_max = 2*torch.pi\n",
        "    x_min = 0\n",
        "    ## train\n",
        "    x_gr = torch.rand(num_train, 2) * (abs(x_max) + abs(x_min)) + x_min\n",
        "    train_dataset = create_dataset(x_gr)\n",
        "    train_dataloader = DataLoader(train_dataset, batch_size=batchsize, shuffle=True)\n",
        "    optimizer = torch.optim.Adam(model.parameters(), lr=lr)\n",
        "    loss_lst = train_pde(model, tar_sc, train_dataloader, optimizer, batchsize, device, epochs)\n",
        "    return model, loss_lst\n",
        "\n",
        "## tbd\n",
        "def test_model(model, num_test):\n",
        "    ## test\n",
        "    x_gr = torch.rand(num_test, 2) * (abs(x_max) + abs(x_min)) + x_min\n",
        "    test_dataset = create_dataset(x_gr)\n",
        "    model.eval()\n",
        "    with torch.no_grad():\n",
        "        model_predictions = model(x_gr).cpu().numpy().flatten()"
      ],
      "metadata": {
        "id": "fC7O8kIpxWs0"
      },
      "execution_count": 7,
      "outputs": []
    },
    {
      "cell_type": "code",
      "source": [
        "model, loss = solve_newton_step_pinn(q, 0.01, 100, \"cuda\", 2000, 1000, \"\", epochs = 15)"
      ],
      "metadata": {
        "colab": {
          "base_uri": "https://localhost:8080/"
        },
        "id": "yhgR3Ix3q1Zh",
        "outputId": "6441cf56-89b4-4812-a18b-d51429e7618e"
      },
      "execution_count": 8,
      "outputs": [
        {
          "output_type": "stream",
          "name": "stdout",
          "text": [
            "Training the model...\n"
          ]
        },
        {
          "output_type": "stream",
          "name": "stderr",
          "text": [
            "\r  0%|          | 0/15 [00:00<?, ?epoch/s]"
          ]
        },
        {
          "output_type": "stream",
          "name": "stdout",
          "text": [
            "loss: 1.4791332483291626\n",
            "loss: 1.539921522140503\n",
            "loss: 1.4324160814285278\n",
            "loss: 1.6171249151229858\n",
            "loss: 1.4130779504776\n",
            "loss: 1.4221967458724976\n",
            "loss: 1.4408432245254517\n",
            "loss: 1.3504198789596558\n",
            "loss: 1.342481017112732\n",
            "loss: 1.269850492477417\n",
            "loss: 1.3638094663619995\n",
            "loss: 1.3536361455917358\n",
            "loss: 1.2150617837905884\n",
            "loss: 1.2727388143539429\n",
            "loss: 1.3294999599456787\n",
            "loss: 1.3391653299331665\n",
            "loss: 1.262556791305542\n",
            "loss: 1.1521031856536865\n",
            "loss: 1.3724215030670166\n"
          ]
        },
        {
          "output_type": "stream",
          "name": "stderr",
          "text": [
            "\r  7%|▋         | 1/15 [00:06<01:37,  6.96s/epoch]"
          ]
        },
        {
          "output_type": "stream",
          "name": "stdout",
          "text": [
            "loss: 1.2234234809875488\n",
            "loss: 1.1534621715545654\n",
            "loss: 1.1455483436584473\n",
            "loss: 1.165202260017395\n",
            "loss: 0.996770441532135\n",
            "loss: 1.1385496854782104\n",
            "loss: 1.1233580112457275\n",
            "loss: 1.2432724237442017\n",
            "loss: 1.2554961442947388\n",
            "loss: 1.2073688507080078\n",
            "loss: 1.1699683666229248\n",
            "loss: 1.2462440729141235\n",
            "loss: 1.4095284938812256\n",
            "loss: 1.3429898023605347\n",
            "loss: 1.289027214050293\n",
            "loss: 1.071795105934143\n",
            "loss: 1.1014147996902466\n",
            "loss: 1.2693049907684326\n",
            "loss: 1.2143349647521973\n",
            "loss: 1.3203985691070557\n"
          ]
        },
        {
          "output_type": "stream",
          "name": "stderr",
          "text": [
            "\r 13%|█▎        | 2/15 [00:13<01:29,  6.92s/epoch]"
          ]
        },
        {
          "output_type": "stream",
          "name": "stdout",
          "text": [
            "loss: 1.340036153793335\n",
            "loss: 1.1394786834716797\n",
            "loss: 1.212632417678833\n",
            "loss: 1.3763009309768677\n",
            "loss: 1.2805041074752808\n",
            "loss: 1.127474069595337\n",
            "loss: 1.2387800216674805\n",
            "loss: 1.2747889757156372\n",
            "loss: 1.2622343301773071\n",
            "loss: 1.2327837944030762\n",
            "loss: 1.0281901359558105\n",
            "loss: 1.1306424140930176\n",
            "loss: 1.1733286380767822\n",
            "loss: 0.976184606552124\n",
            "loss: 1.0932650566101074\n",
            "loss: 1.0336461067199707\n",
            "loss: 1.133914828300476\n",
            "loss: 1.0057646036148071\n",
            "loss: 1.1227097511291504\n",
            "loss: 1.0039515495300293\n"
          ]
        },
        {
          "output_type": "stream",
          "name": "stderr",
          "text": [
            "\r 20%|██        | 3/15 [00:20<01:22,  6.87s/epoch]"
          ]
        },
        {
          "output_type": "stream",
          "name": "stdout",
          "text": [
            "loss: 1.100926160812378\n",
            "loss: 1.1365286111831665\n",
            "loss: 1.278207540512085\n",
            "loss: 1.2164859771728516\n",
            "loss: 1.1249802112579346\n",
            "loss: 1.1892672777175903\n",
            "loss: 1.0572969913482666\n",
            "loss: 1.2587716579437256\n",
            "loss: 1.0994343757629395\n",
            "loss: 0.9976434111595154\n",
            "loss: 1.1571232080459595\n",
            "loss: 1.0590670108795166\n",
            "loss: 1.239558219909668\n",
            "loss: 1.0431890487670898\n",
            "loss: 1.1712815761566162\n",
            "loss: 1.1715391874313354\n",
            "loss: 1.1997896432876587\n",
            "loss: 1.125423550605774\n",
            "loss: 1.2017940282821655\n",
            "loss: 1.0923620462417603\n"
          ]
        },
        {
          "output_type": "stream",
          "name": "stderr",
          "text": [
            "\r 27%|██▋       | 4/15 [00:27<01:15,  6.85s/epoch]"
          ]
        },
        {
          "output_type": "stream",
          "name": "stdout",
          "text": [
            "loss: 1.1121691465377808\n",
            "loss: 1.0699595212936401\n",
            "loss: 1.111196756362915\n",
            "loss: 1.0329515933990479\n",
            "loss: 1.23362398147583\n",
            "loss: 1.0691332817077637\n",
            "loss: 1.0460418462753296\n",
            "loss: 1.0166032314300537\n",
            "loss: 1.1703451871871948\n",
            "loss: 1.052316665649414\n",
            "loss: 1.1403758525848389\n",
            "loss: 1.095450520515442\n",
            "loss: 1.1377768516540527\n",
            "loss: 1.0798529386520386\n",
            "loss: 1.133475422859192\n",
            "loss: 1.2274532318115234\n",
            "loss: 1.2044792175292969\n",
            "loss: 1.2508699893951416\n",
            "loss: 1.0685955286026\n",
            "loss: 1.2286708354949951\n"
          ]
        },
        {
          "output_type": "stream",
          "name": "stderr",
          "text": [
            "\r 33%|███▎      | 5/15 [00:34<01:08,  6.89s/epoch]"
          ]
        },
        {
          "output_type": "stream",
          "name": "stdout",
          "text": [
            "loss: 1.3022228479385376\n",
            "loss: 1.0797770023345947\n",
            "loss: 1.1220262050628662\n",
            "loss: 0.935564398765564\n",
            "loss: 1.1309993267059326\n",
            "loss: 1.167120337486267\n",
            "loss: 1.1052732467651367\n",
            "loss: 1.0506346225738525\n",
            "loss: 1.2817906141281128\n",
            "loss: 1.1601204872131348\n",
            "loss: 1.118587851524353\n",
            "loss: 1.1684945821762085\n",
            "loss: 1.2391330003738403\n",
            "loss: 1.069985270500183\n",
            "loss: 0.9678195118904114\n",
            "loss: 1.081807017326355\n",
            "loss: 1.0448986291885376\n",
            "loss: 1.0883700847625732\n",
            "loss: 0.9261071681976318\n",
            "loss: 0.9895051121711731\n"
          ]
        },
        {
          "output_type": "stream",
          "name": "stderr",
          "text": [
            "\r 40%|████      | 6/15 [00:41<01:02,  6.90s/epoch]"
          ]
        },
        {
          "output_type": "stream",
          "name": "stdout",
          "text": [
            "loss: 1.1932021379470825\n",
            "loss: 1.2893208265304565\n",
            "loss: 1.009392499923706\n",
            "loss: 1.0690772533416748\n",
            "loss: 1.177471399307251\n",
            "loss: 1.2078959941864014\n",
            "loss: 1.019088864326477\n",
            "loss: 1.2752275466918945\n",
            "loss: 1.0869022607803345\n",
            "loss: 1.1307976245880127\n",
            "loss: 1.077060580253601\n",
            "loss: 1.2068986892700195\n",
            "loss: 1.0707321166992188\n",
            "loss: 0.9430668950080872\n",
            "loss: 1.0652748346328735\n",
            "loss: 0.9673764109611511\n",
            "loss: 0.8757362365722656\n",
            "loss: 1.0409210920333862\n",
            "loss: 0.9503280520439148\n",
            "loss: 1.039253830909729\n"
          ]
        },
        {
          "output_type": "stream",
          "name": "stderr",
          "text": [
            "\r 47%|████▋     | 7/15 [00:48<00:56,  7.05s/epoch]"
          ]
        },
        {
          "output_type": "stream",
          "name": "stdout",
          "text": [
            "loss: 1.0523707866668701\n",
            "loss: 1.1030077934265137\n",
            "loss: 1.1588971614837646\n",
            "loss: 1.1686575412750244\n",
            "loss: 1.112080693244934\n",
            "loss: 1.1055537462234497\n",
            "loss: 1.0315932035446167\n",
            "loss: 1.0918327569961548\n",
            "loss: 1.026145577430725\n",
            "loss: 0.9296804070472717\n",
            "loss: 1.056378960609436\n",
            "loss: 0.9703168272972107\n",
            "loss: 0.8801318407058716\n",
            "loss: 0.9599116444587708\n",
            "loss: 1.046126127243042\n",
            "loss: 1.1308530569076538\n",
            "loss: 1.1398195028305054\n",
            "loss: 1.0790314674377441\n",
            "loss: 1.249052882194519\n",
            "loss: 1.2267109155654907\n"
          ]
        },
        {
          "output_type": "stream",
          "name": "stderr",
          "text": [
            "\r 53%|█████▎    | 8/15 [00:55<00:48,  6.98s/epoch]"
          ]
        },
        {
          "output_type": "stream",
          "name": "stdout",
          "text": [
            "loss: 0.9613430500030518\n",
            "loss: 0.9576330184936523\n",
            "loss: 1.1099724769592285\n",
            "loss: 0.930068850517273\n",
            "loss: 1.0556838512420654\n",
            "loss: 1.1117159128189087\n",
            "loss: 0.9890614748001099\n",
            "loss: 1.0371562242507935\n",
            "loss: 1.1458683013916016\n",
            "loss: 0.9320030808448792\n",
            "loss: 1.218284249305725\n",
            "loss: 1.0435023307800293\n",
            "loss: 1.2002145051956177\n",
            "loss: 1.0311897993087769\n",
            "loss: 1.022002935409546\n",
            "loss: 0.9687108993530273\n",
            "loss: 0.8833776712417603\n",
            "loss: 1.115992546081543\n",
            "loss: 0.9797959923744202\n",
            "loss: 0.9507166743278503\n"
          ]
        },
        {
          "output_type": "stream",
          "name": "stderr",
          "text": [
            "\r 60%|██████    | 9/15 [01:02<00:41,  6.94s/epoch]"
          ]
        },
        {
          "output_type": "stream",
          "name": "stdout",
          "text": [
            "loss: 1.0402182340621948\n",
            "loss: 1.0844745635986328\n",
            "loss: 1.031782865524292\n",
            "loss: 0.9668720960617065\n",
            "loss: 1.0178089141845703\n",
            "loss: 1.0571396350860596\n",
            "loss: 1.0256084203720093\n",
            "loss: 0.9988343119621277\n",
            "loss: 1.0800323486328125\n",
            "loss: 1.1492308378219604\n",
            "loss: 1.2305973768234253\n",
            "loss: 1.1768920421600342\n",
            "loss: 1.2272924184799194\n",
            "loss: 0.9822854995727539\n",
            "loss: 1.0931191444396973\n",
            "loss: 0.9326554536819458\n",
            "loss: 0.9440457224845886\n",
            "loss: 1.0593326091766357\n",
            "loss: 1.0648634433746338\n",
            "loss: 1.0853519439697266\n"
          ]
        },
        {
          "output_type": "stream",
          "name": "stderr",
          "text": [
            "\r 67%|██████▋   | 10/15 [01:09<00:34,  6.92s/epoch]"
          ]
        },
        {
          "output_type": "stream",
          "name": "stdout",
          "text": [
            "loss: 1.0418665409088135\n",
            "loss: 1.0263513326644897\n",
            "loss: 0.9248969554901123\n",
            "loss: 1.0334616899490356\n",
            "loss: 0.9542114734649658\n",
            "loss: 1.1359374523162842\n",
            "loss: 1.2439059019088745\n",
            "loss: 1.3018903732299805\n",
            "loss: 1.0619486570358276\n",
            "loss: 1.025156855583191\n",
            "loss: 1.0568751096725464\n",
            "loss: 1.0255489349365234\n",
            "loss: 1.1259002685546875\n",
            "loss: 1.0017069578170776\n",
            "loss: 0.99151211977005\n",
            "loss: 0.9666111469268799\n",
            "loss: 1.0889573097229004\n",
            "loss: 1.08375084400177\n",
            "loss: 0.9265512824058533\n",
            "loss: 1.0321720838546753\n"
          ]
        },
        {
          "output_type": "stream",
          "name": "stderr",
          "text": [
            "\r 73%|███████▎  | 11/15 [01:16<00:27,  6.90s/epoch]"
          ]
        },
        {
          "output_type": "stream",
          "name": "stdout",
          "text": [
            "loss: 0.9533869624137878\n",
            "loss: 1.0071274042129517\n",
            "loss: 0.9664546251296997\n",
            "loss: 1.1282737255096436\n",
            "loss: 1.1994140148162842\n",
            "loss: 1.0692942142486572\n",
            "loss: 1.1551874876022339\n",
            "loss: 1.021449089050293\n",
            "loss: 1.0838685035705566\n",
            "loss: 1.1126490831375122\n",
            "loss: 1.0815050601959229\n",
            "loss: 1.161361575126648\n",
            "loss: 1.0346063375473022\n",
            "loss: 1.1831872463226318\n",
            "loss: 1.0066856145858765\n",
            "loss: 0.9093318581581116\n",
            "loss: 1.0146582126617432\n",
            "loss: 0.9001756310462952\n",
            "loss: 1.0377357006072998\n",
            "loss: 1.0559667348861694\n"
          ]
        },
        {
          "output_type": "stream",
          "name": "stderr",
          "text": [
            "\r 80%|████████  | 12/15 [01:23<00:20,  6.91s/epoch]"
          ]
        },
        {
          "output_type": "stream",
          "name": "stdout",
          "text": [
            "loss: 1.1518536806106567\n",
            "loss: 0.9898783564567566\n",
            "loss: 1.112060546875\n",
            "loss: 1.0919764041900635\n",
            "loss: 1.0644563436508179\n",
            "loss: 1.0521119832992554\n",
            "loss: 1.028640866279602\n",
            "loss: 0.959228515625\n",
            "loss: 1.0645182132720947\n",
            "loss: 1.2361119985580444\n",
            "loss: 1.1253952980041504\n",
            "loss: 1.1790803670883179\n",
            "loss: 1.288197636604309\n",
            "loss: 0.9252292513847351\n",
            "loss: 0.9703072309494019\n",
            "loss: 0.9687536358833313\n",
            "loss: 0.996719479560852\n",
            "loss: 0.9772598743438721\n",
            "loss: 0.8696250915527344\n",
            "loss: 1.046124815940857\n"
          ]
        },
        {
          "output_type": "stream",
          "name": "stderr",
          "text": [
            "\r 87%|████████▋ | 13/15 [01:29<00:13,  6.89s/epoch]"
          ]
        },
        {
          "output_type": "stream",
          "name": "stdout",
          "text": [
            "loss: 0.9993528723716736\n",
            "loss: 1.1782493591308594\n",
            "loss: 0.9901949167251587\n",
            "loss: 1.1868723630905151\n",
            "loss: 1.093740463256836\n",
            "loss: 1.1801023483276367\n",
            "loss: 1.0873043537139893\n",
            "loss: 1.0538389682769775\n",
            "loss: 1.1969445943832397\n",
            "loss: 1.1696826219558716\n",
            "loss: 1.2562141418457031\n",
            "loss: 1.1865910291671753\n",
            "loss: 1.036299705505371\n",
            "loss: 1.1380188465118408\n",
            "loss: 0.9815673828125\n",
            "loss: 1.043839454650879\n",
            "loss: 1.1171479225158691\n",
            "loss: 1.043370008468628\n",
            "loss: 1.0067569017410278\n",
            "loss: 1.0576581954956055\n"
          ]
        },
        {
          "output_type": "stream",
          "name": "stderr",
          "text": [
            "\r 93%|█████████▎| 14/15 [01:36<00:06,  6.89s/epoch]"
          ]
        },
        {
          "output_type": "stream",
          "name": "stdout",
          "text": [
            "loss: 1.1054203510284424\n",
            "loss: 1.1132186651229858\n",
            "loss: 1.10638427734375\n",
            "loss: 1.1267821788787842\n",
            "loss: 1.1208105087280273\n",
            "loss: 1.3165655136108398\n",
            "loss: 1.0829565525054932\n",
            "loss: 1.121934413909912\n",
            "loss: 1.2286832332611084\n",
            "loss: 1.020736575126648\n",
            "loss: 1.122074007987976\n",
            "loss: 1.0717617273330688\n",
            "loss: 1.0805004835128784\n",
            "loss: 1.0016236305236816\n",
            "loss: 0.9044838547706604\n",
            "loss: 0.9780803322792053\n",
            "loss: 1.0678588151931763\n",
            "loss: 0.9665073752403259\n",
            "loss: 1.1490534543991089\n",
            "loss: 1.129833698272705\n"
          ]
        },
        {
          "output_type": "stream",
          "name": "stderr",
          "text": [
            "100%|██████████| 15/15 [01:43<00:00,  6.91s/epoch]"
          ]
        },
        {
          "output_type": "stream",
          "name": "stdout",
          "text": [
            "loss: 1.2053556442260742\n"
          ]
        },
        {
          "output_type": "stream",
          "name": "stderr",
          "text": [
            "\n"
          ]
        }
      ]
    },
    {
      "cell_type": "code",
      "source": [
        "print(loss)"
      ],
      "metadata": {
        "colab": {
          "base_uri": "https://localhost:8080/"
        },
        "id": "fuPq3wNiyPpy",
        "outputId": "2a0d47c3-0910-4afa-ebff-f35782c28206"
      },
      "execution_count": 9,
      "outputs": [
        {
          "output_type": "stream",
          "name": "stdout",
          "text": [
            "[1.2234234809875488, 1.340036153793335, 1.100926160812378, 1.1121691465377808, 1.3022228479385376, 1.1932021379470825, 1.0523707866668701, 0.9613430500030518, 1.0402182340621948, 1.0418665409088135, 0.9533869624137878, 1.1518536806106567, 0.9993528723716736, 1.1054203510284424, 1.2053556442260742]\n"
          ]
        }
      ]
    },
    {
      "cell_type": "code",
      "source": [
        "plt.plot(loss)\n",
        "plt.title(\"Loss plot for simple ReLu network\")\n",
        "plt.xlabel(\"The epoch\")\n",
        "plt.ylabel(\"The MSE loss\")\n",
        "plt.show()"
      ],
      "metadata": {
        "colab": {
          "base_uri": "https://localhost:8080/",
          "height": 472
        },
        "id": "FAni43NNXaz6",
        "outputId": "e6441be2-3fb5-42c0-d3ff-db7172559f18"
      },
      "execution_count": 10,
      "outputs": [
        {
          "output_type": "display_data",
          "data": {
            "text/plain": [
              "<Figure size 640x480 with 1 Axes>"
            ],
            "image/png": "[encoded data removed]"
          },
          "metadata": {}
        }
      ]
    },
    {
      "cell_type": "code",
      "source": [
        "model_res, loss_res = solve_newton_step_pinn(q, 0.01, 100, \"cuda\", 2000, 1000, \"res\", epochs = 15)"
      ],
      "metadata": {
        "id": "ji7dfsY9vYQW",
        "colab": {
          "base_uri": "https://localhost:8080/"
        },
        "outputId": "5b608a91-60bb-434c-cc81-fad5b2674509"
      },
      "execution_count": 13,
      "outputs": [
        {
          "output_type": "stream",
          "name": "stdout",
          "text": [
            "Training the model...\n"
          ]
        },
        {
          "output_type": "stream",
          "name": "stderr",
          "text": [
            "\r  0%|          | 0/15 [00:00<?, ?epoch/s]"
          ]
        },
        {
          "output_type": "stream",
          "name": "stdout",
          "text": [
            "loss: 1.5772310495376587\n",
            "loss: 1.5770260095596313\n",
            "loss: 1.4638371467590332\n",
            "loss: 1.4650331735610962\n",
            "loss: 1.4927489757537842\n",
            "loss: 1.416248083114624\n",
            "loss: 1.3667136430740356\n",
            "loss: 1.271406650543213\n",
            "loss: 1.3158624172210693\n",
            "loss: 1.3267099857330322\n",
            "loss: 1.0852285623550415\n",
            "loss: 1.1278268098831177\n",
            "loss: 1.041999340057373\n",
            "loss: 1.0457857847213745\n",
            "loss: 1.0215662717819214\n",
            "loss: 1.0258049964904785\n",
            "loss: 1.147706151008606\n",
            "loss: 0.9835644364356995\n",
            "loss: 0.9437332153320312\n"
          ]
        },
        {
          "output_type": "stream",
          "name": "stderr",
          "text": [
            "\r  7%|▋         | 1/15 [00:04<01:08,  4.89s/epoch]"
          ]
        },
        {
          "output_type": "stream",
          "name": "stdout",
          "text": [
            "loss: 0.9315542578697205\n",
            "loss: 0.9035456776618958\n",
            "loss: 0.951833188533783\n",
            "loss: 0.9158675670623779\n",
            "loss: 0.9343723654747009\n",
            "loss: 0.8037973642349243\n",
            "loss: 0.8242032527923584\n",
            "loss: 0.8824029564857483\n",
            "loss: 0.904312789440155\n",
            "loss: 0.726929783821106\n",
            "loss: 0.7074315547943115\n",
            "loss: 0.7264887690544128\n",
            "loss: 0.7838526964187622\n",
            "loss: 0.6778684854507446\n",
            "loss: 0.7642077207565308\n",
            "loss: 0.719798743724823\n",
            "loss: 0.5931271910667419\n",
            "loss: 0.6904734373092651\n",
            "loss: 0.5920607447624207\n",
            "loss: 0.5564704537391663\n"
          ]
        },
        {
          "output_type": "stream",
          "name": "stderr",
          "text": [
            "\r 13%|█▎        | 2/15 [00:09<01:04,  4.99s/epoch]"
          ]
        },
        {
          "output_type": "stream",
          "name": "stdout",
          "text": [
            "loss: 0.6375546455383301\n",
            "loss: 0.6255304217338562\n",
            "loss: 0.6139839887619019\n",
            "loss: 0.6107208132743835\n",
            "loss: 0.7078977823257446\n",
            "loss: 0.5417033433914185\n",
            "loss: 0.5725096464157104\n",
            "loss: 0.47603029012680054\n",
            "loss: 0.6304563283920288\n",
            "loss: 0.49876663088798523\n",
            "loss: 0.5588271021842957\n",
            "loss: 0.5245917439460754\n",
            "loss: 0.5220908522605896\n",
            "loss: 0.5356670022010803\n",
            "loss: 0.5976094007492065\n",
            "loss: 0.4545400142669678\n",
            "loss: 0.4245574176311493\n",
            "loss: 0.5287938714027405\n",
            "loss: 0.45485350489616394\n",
            "loss: 0.3086725175380707\n"
          ]
        },
        {
          "output_type": "stream",
          "name": "stderr",
          "text": [
            "\r 20%|██        | 3/15 [00:14<00:59,  4.95s/epoch]"
          ]
        },
        {
          "output_type": "stream",
          "name": "stdout",
          "text": [
            "loss: 0.47509002685546875\n",
            "loss: 0.46026313304901123\n",
            "loss: 0.44395124912261963\n",
            "loss: 0.4353090226650238\n",
            "loss: 0.39168548583984375\n",
            "loss: 0.356350839138031\n",
            "loss: 0.4781709313392639\n",
            "loss: 0.3656167984008789\n",
            "loss: 0.448242723941803\n",
            "loss: 0.5855598449707031\n",
            "loss: 0.3363110423088074\n",
            "loss: 0.4385935962200165\n",
            "loss: 0.4453614056110382\n",
            "loss: 0.38928118348121643\n",
            "loss: 0.4288960099220276\n",
            "loss: 0.36330291628837585\n",
            "loss: 0.333783894777298\n",
            "loss: 0.4602477252483368\n",
            "loss: 0.3729056417942047\n",
            "loss: 0.41543129086494446\n"
          ]
        },
        {
          "output_type": "stream",
          "name": "stderr",
          "text": [
            "\r 27%|██▋       | 4/15 [00:19<00:53,  4.89s/epoch]"
          ]
        },
        {
          "output_type": "stream",
          "name": "stdout",
          "text": [
            "loss: 0.3289172947406769\n",
            "loss: 0.4794158935546875\n",
            "loss: 0.2623105049133301\n",
            "loss: 0.34546560049057007\n",
            "loss: 0.4340990483760834\n",
            "loss: 0.37196648120880127\n",
            "loss: 0.33353590965270996\n",
            "loss: 0.4052478075027466\n",
            "loss: 0.39479300379753113\n",
            "loss: 0.37811723351478577\n",
            "loss: 0.41100189089775085\n",
            "loss: 0.3945484757423401\n",
            "loss: 0.3029775023460388\n",
            "loss: 0.28346168994903564\n",
            "loss: 0.33396971225738525\n",
            "loss: 0.441922128200531\n",
            "loss: 0.32520514726638794\n",
            "loss: 0.3625233471393585\n",
            "loss: 0.36335456371307373\n",
            "loss: 0.3401710093021393\n"
          ]
        },
        {
          "output_type": "stream",
          "name": "stderr",
          "text": [
            "\r 33%|███▎      | 5/15 [00:24<00:48,  4.87s/epoch]"
          ]
        },
        {
          "output_type": "stream",
          "name": "stdout",
          "text": [
            "loss: 0.2979752719402313\n",
            "loss: 0.30949920415878296\n",
            "loss: 0.31504106521606445\n",
            "loss: 0.2724948823451996\n",
            "loss: 0.2868202030658722\n",
            "loss: 0.24476493895053864\n",
            "loss: 0.3422083854675293\n",
            "loss: 0.3320094347000122\n",
            "loss: 0.2870804965496063\n",
            "loss: 0.3242642283439636\n",
            "loss: 0.3855482339859009\n",
            "loss: 0.33708328008651733\n",
            "loss: 0.3359847962856293\n",
            "loss: 0.3676512539386749\n",
            "loss: 0.3441407084465027\n",
            "loss: 0.2565692365169525\n",
            "loss: 0.23562978208065033\n",
            "loss: 0.27712398767471313\n",
            "loss: 0.27532750368118286\n",
            "loss: 0.23001961410045624\n"
          ]
        },
        {
          "output_type": "stream",
          "name": "stderr",
          "text": [
            "\r 40%|████      | 6/15 [00:29<00:43,  4.88s/epoch]"
          ]
        },
        {
          "output_type": "stream",
          "name": "stdout",
          "text": [
            "loss: 0.2914176881313324\n",
            "loss: 0.2709499001502991\n",
            "loss: 0.258646696805954\n",
            "loss: 0.24119973182678223\n",
            "loss: 0.2661868929862976\n",
            "loss: 0.28418833017349243\n",
            "loss: 0.3517487347126007\n",
            "loss: 0.3053552508354187\n",
            "loss: 0.26006385684013367\n",
            "loss: 0.2780008614063263\n",
            "loss: 0.22815783321857452\n",
            "loss: 0.36038920283317566\n",
            "loss: 0.28147605061531067\n",
            "loss: 0.3628363609313965\n",
            "loss: 0.2788960635662079\n",
            "loss: 0.29944199323654175\n",
            "loss: 0.3235800862312317\n",
            "loss: 0.22216445207595825\n",
            "loss: 0.25493574142456055\n",
            "loss: 0.3250613212585449\n"
          ]
        },
        {
          "output_type": "stream",
          "name": "stderr",
          "text": [
            "\r 47%|████▋     | 7/15 [00:34<00:38,  4.86s/epoch]"
          ]
        },
        {
          "output_type": "stream",
          "name": "stdout",
          "text": [
            "loss: 0.25591447949409485\n",
            "loss: 0.3169559836387634\n",
            "loss: 0.28733932971954346\n",
            "loss: 0.3590506315231323\n",
            "loss: 0.29483991861343384\n",
            "loss: 0.3653548061847687\n",
            "loss: 0.34743666648864746\n",
            "loss: 0.26888152956962585\n",
            "loss: 0.23291051387786865\n",
            "loss: 0.28310996294021606\n",
            "loss: 0.33323970437049866\n",
            "loss: 0.37079745531082153\n",
            "loss: 0.276708722114563\n",
            "loss: 0.34234926104545593\n",
            "loss: 0.38354089856147766\n",
            "loss: 0.3178366720676422\n",
            "loss: 0.28839942812919617\n",
            "loss: 0.2931755483150482\n",
            "loss: 0.24655567109584808\n",
            "loss: 0.22533513605594635\n"
          ]
        },
        {
          "output_type": "stream",
          "name": "stderr",
          "text": [
            "\r 53%|█████▎    | 8/15 [00:38<00:33,  4.83s/epoch]"
          ]
        },
        {
          "output_type": "stream",
          "name": "stdout",
          "text": [
            "loss: 0.33378273248672485\n",
            "loss: 0.25247499346733093\n",
            "loss: 0.25947585701942444\n",
            "loss: 0.3179302215576172\n",
            "loss: 0.26808232069015503\n",
            "loss: 0.22468841075897217\n",
            "loss: 0.2705758213996887\n",
            "loss: 0.28864315152168274\n",
            "loss: 0.2521020770072937\n",
            "loss: 0.2921636402606964\n",
            "loss: 0.3052998185157776\n",
            "loss: 0.21262389421463013\n",
            "loss: 0.2679872512817383\n",
            "loss: 0.29817995429039\n",
            "loss: 0.24852339923381805\n",
            "loss: 0.23225811123847961\n",
            "loss: 0.2900235950946808\n",
            "loss: 0.2758503556251526\n",
            "loss: 0.25103506445884705\n",
            "loss: 0.26599282026290894\n"
          ]
        },
        {
          "output_type": "stream",
          "name": "stderr",
          "text": [
            "\r 60%|██████    | 9/15 [00:43<00:28,  4.83s/epoch]"
          ]
        },
        {
          "output_type": "stream",
          "name": "stdout",
          "text": [
            "loss: 0.26466962695121765\n",
            "loss: 0.2717333436012268\n",
            "loss: 0.2952709197998047\n",
            "loss: 0.32154250144958496\n",
            "loss: 0.2610139548778534\n",
            "loss: 0.272889107465744\n",
            "loss: 0.21900241076946259\n",
            "loss: 0.2537616193294525\n",
            "loss: 0.2821732759475708\n",
            "loss: 0.2561449706554413\n",
            "loss: 0.2555186450481415\n",
            "loss: 0.3132103383541107\n",
            "loss: 0.18455535173416138\n",
            "loss: 0.294734388589859\n",
            "loss: 0.28099748492240906\n",
            "loss: 0.23213931918144226\n",
            "loss: 0.30284494161605835\n",
            "loss: 0.25308477878570557\n",
            "loss: 0.24383258819580078\n",
            "loss: 0.27608925104141235\n"
          ]
        },
        {
          "output_type": "stream",
          "name": "stderr",
          "text": [
            "\r 67%|██████▋   | 10/15 [00:48<00:24,  4.82s/epoch]"
          ]
        },
        {
          "output_type": "stream",
          "name": "stdout",
          "text": [
            "loss: 0.27318906784057617\n",
            "loss: 0.200352743268013\n",
            "loss: 0.3021865785121918\n",
            "loss: 0.22383064031600952\n",
            "loss: 0.2811422049999237\n",
            "loss: 0.24807092547416687\n",
            "loss: 0.30447816848754883\n",
            "loss: 0.21186202764511108\n",
            "loss: 0.24536484479904175\n",
            "loss: 0.22681182622909546\n",
            "loss: 0.21473605930805206\n",
            "loss: 0.2676771581172943\n",
            "loss: 0.2738993167877197\n",
            "loss: 0.26438775658607483\n",
            "loss: 0.25229501724243164\n",
            "loss: 0.28829190135002136\n",
            "loss: 0.24944786727428436\n",
            "loss: 0.23562631011009216\n",
            "loss: 0.1815626621246338\n",
            "loss: 0.30116310715675354\n"
          ]
        },
        {
          "output_type": "stream",
          "name": "stderr",
          "text": [
            "\r 73%|███████▎  | 11/15 [00:53<00:19,  4.80s/epoch]"
          ]
        },
        {
          "output_type": "stream",
          "name": "stdout",
          "text": [
            "loss: 0.25101011991500854\n",
            "loss: 0.2686278820037842\n",
            "loss: 0.2799100875854492\n",
            "loss: 0.2553483545780182\n",
            "loss: 0.2731139361858368\n",
            "loss: 0.2964558005332947\n",
            "loss: 0.19843789935112\n",
            "loss: 0.2544693946838379\n",
            "loss: 0.22400934994220734\n",
            "loss: 0.26426589488983154\n",
            "loss: 0.2792941927909851\n",
            "loss: 0.2614554464817047\n",
            "loss: 0.2672021687030792\n",
            "loss: 0.23138579726219177\n",
            "loss: 0.28867119550704956\n",
            "loss: 0.2449958622455597\n",
            "loss: 0.25488147139549255\n",
            "loss: 0.23043608665466309\n",
            "loss: 0.17518514394760132\n",
            "loss: 0.2102508842945099\n"
          ]
        },
        {
          "output_type": "stream",
          "name": "stderr",
          "text": [
            "\r 80%|████████  | 12/15 [00:58<00:14,  4.89s/epoch]"
          ]
        },
        {
          "output_type": "stream",
          "name": "stdout",
          "text": [
            "loss: 0.22491656243801117\n",
            "loss: 0.2850651443004608\n",
            "loss: 0.31604868173599243\n",
            "loss: 0.24991117417812347\n",
            "loss: 0.2582162916660309\n",
            "loss: 0.25166988372802734\n",
            "loss: 0.25278109312057495\n",
            "loss: 0.23420089483261108\n",
            "loss: 0.28523021936416626\n",
            "loss: 0.25914454460144043\n",
            "loss: 0.21645087003707886\n",
            "loss: 0.3123292922973633\n",
            "loss: 0.22330597043037415\n",
            "loss: 0.2535076141357422\n",
            "loss: 0.24307070672512054\n",
            "loss: 0.27995845675468445\n",
            "loss: 0.283284068107605\n",
            "loss: 0.2562357783317566\n",
            "loss: 0.2367800921201706\n",
            "loss: 0.25737568736076355\n"
          ]
        },
        {
          "output_type": "stream",
          "name": "stderr",
          "text": [
            "\r 87%|████████▋ | 13/15 [01:03<00:09,  4.90s/epoch]"
          ]
        },
        {
          "output_type": "stream",
          "name": "stdout",
          "text": [
            "loss: 0.1899053156375885\n",
            "loss: 0.26852986216545105\n",
            "loss: 0.2726621627807617\n",
            "loss: 0.1827727109193802\n",
            "loss: 0.21224819123744965\n",
            "loss: 0.24447661638259888\n",
            "loss: 0.24275554716587067\n",
            "loss: 0.22770603001117706\n",
            "loss: 0.17175078392028809\n",
            "loss: 0.2538018226623535\n",
            "loss: 0.22222541272640228\n",
            "loss: 0.2257756143808365\n",
            "loss: 0.23686076700687408\n",
            "loss: 0.24589399993419647\n",
            "loss: 0.2982437312602997\n",
            "loss: 0.26381081342697144\n",
            "loss: 0.23894309997558594\n",
            "loss: 0.17248977720737457\n",
            "loss: 0.2222404032945633\n",
            "loss: 0.2118484377861023\n"
          ]
        },
        {
          "output_type": "stream",
          "name": "stderr",
          "text": [
            "\r 93%|█████████▎| 14/15 [01:08<00:04,  4.90s/epoch]"
          ]
        },
        {
          "output_type": "stream",
          "name": "stdout",
          "text": [
            "loss: 0.2452550083398819\n",
            "loss: 0.22225883603096008\n",
            "loss: 0.2223748117685318\n",
            "loss: 0.24402764439582825\n",
            "loss: 0.20077238976955414\n",
            "loss: 0.20328858494758606\n",
            "loss: 0.1889164000749588\n",
            "loss: 0.21215467154979706\n",
            "loss: 0.26483744382858276\n",
            "loss: 0.1844644546508789\n",
            "loss: 0.24259282648563385\n",
            "loss: 0.2417878359556198\n",
            "loss: 0.27510976791381836\n",
            "loss: 0.20074954628944397\n",
            "loss: 0.2158447951078415\n",
            "loss: 0.18752403557300568\n",
            "loss: 0.20117735862731934\n",
            "loss: 0.2486695498228073\n",
            "loss: 0.27031442523002625\n",
            "loss: 0.29270750284194946\n"
          ]
        },
        {
          "output_type": "stream",
          "name": "stderr",
          "text": [
            "100%|██████████| 15/15 [01:13<00:00,  4.88s/epoch]"
          ]
        },
        {
          "output_type": "stream",
          "name": "stdout",
          "text": [
            "loss: 0.21593008935451508\n"
          ]
        },
        {
          "output_type": "stream",
          "name": "stderr",
          "text": [
            "\n"
          ]
        }
      ]
    },
    {
      "cell_type": "code",
      "source": [
        "plt.plot(loss_res)\n",
        "plt.title(\"Loss plot for simple Res model\")\n",
        "plt.xlabel(\"The epoch\")\n",
        "plt.ylabel(\"The MSE loss\")\n",
        "plt.show()"
      ],
      "metadata": {
        "colab": {
          "base_uri": "https://localhost:8080/",
          "height": 472
        },
        "id": "wmeVSZkeYd9I",
        "outputId": "0b0a18b8-b448-4feb-9172-e137e1eb9861"
      },
      "execution_count": 14,
      "outputs": [
        {
          "output_type": "display_data",
          "data": {
            "text/plain": [
              "<Figure size 640x480 with 1 Axes>"
            ],
            "image/png": "[encoded data removed]"
          },
          "metadata": {}
        }
      ]
    },
    {
      "cell_type": "code",
      "source": [
        "model.to(\"cpu\")\n",
        "model_res.to(\"cpu\")\n",
        "model.eval()\n",
        "model_res.eval()\n",
        "\n",
        "with torch.no_grad():\n",
        "    plot_contour(model, \"Contour plot for SimpleRelu Network\")\n",
        "    plot_contour(model_res, \"Contour plot for Res model\")"
      ],
      "metadata": {
        "colab": {
          "base_uri": "https://localhost:8080/",
          "height": 887
        },
        "id": "Ns3JWEY3YuSO",
        "outputId": "201263e8-3f66-4ddb-c992-220544eea172"
      },
      "execution_count": 19,
      "outputs": [
        {
          "output_type": "display_data",
          "data": {
            "text/plain": [
              "<Figure size 640x480 with 2 Axes>"
            ],
            "image/png": "[encoded data removed]"
          },
          "metadata": {}
        },
        {
          "output_type": "display_data",
          "data": {
            "text/plain": [
              "<Figure size 640x480 with 2 Axes>"
            ],
            "image/png": "[encoded data removed]"
          },
          "metadata": {}
        }
      ]
    },
    {
      "cell_type": "code",
      "source": [
        "plot_contour(phi)"
      ],
      "metadata": {
        "colab": {
          "base_uri": "https://localhost:8080/",
          "height": 452
        },
        "id": "2SaAoXAnaFpI",
        "outputId": "916325ff-4c0f-4107-be41-9feabab83280"
      },
      "execution_count": 20,
      "outputs": [
        {
          "output_type": "display_data",
          "data": {
            "text/plain": [
              "<Figure size 640x480 with 2 Axes>"
            ],
            "image/png": "[encoded data removed]"
          },
          "metadata": {}
        }
      ]
    }
  ]
}